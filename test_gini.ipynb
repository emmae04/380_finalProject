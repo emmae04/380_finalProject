{
 "cells": [
  {
   "cell_type": "code",
   "execution_count": 1,
   "metadata": {},
   "outputs": [],
   "source": [
    "import numpy as np\n",
    "from sklearn.svm import SVC\n",
    "from sklearn.datasets import make_classification\n",
    "from itertools import combinations \n",
    "from sklearn.metrics import confusion_matrix\n",
    "from sklearn.metrics import accuracy_score\n",
    "import matplotlib.pyplot as plt\n",
    "import pandas as pd\n",
    "# import seaborn as sns\n",
    "import itertools"
   ]
  },
  {
   "cell_type": "code",
   "execution_count": 2,
   "metadata": {},
   "outputs": [],
   "source": [
    "# get the train and test data from the input strings for the file locations\n",
    "# ie train_data = \"./data/Data1Train.csv\"\n",
    "def getData(train_data, test_data):\n",
    "    X1_df = pd.read_csv(train_data)\n",
    "    X1T_df = pd.read_csv(test_data)\n",
    "\n",
    "    X1_train = X1_df[['x', 'y']]\n",
    "    Y1_train = X1_df[['Class']]\n",
    "    X1_test = X1T_df[['x', 'y']]\n",
    "    Y1_test = X1T_df[['Class']]\n",
    "\n",
    "    return X1_train, Y1_train, X1_test, Y1_test"
   ]
  },
  {
   "cell_type": "code",
   "execution_count": 3,
   "metadata": {},
   "outputs": [],
   "source": [
    "# create class Node that stores its children, model used, and is it a leaf\n",
    "class Node:\n",
    "    def __init__(self, model):\n",
    "        self.model = model\n",
    "        self.isLeaf = True\n",
    "        self.Left = None\n",
    "        self.Right = None\n",
    "\n",
    "    def setRight(self, node_in):\n",
    "        self.Right = node_in\n",
    "        self.isLeaf = False\n",
    "\n",
    "    def setLeft(self, node_in):\n",
    "        self.Left = node_in\n",
    "        self.isLeaf = False"
   ]
  },
  {
   "cell_type": "code",
   "execution_count": null,
   "metadata": {},
   "outputs": [],
   "source": []
  }
 ],
 "metadata": {
  "kernelspec": {
   "display_name": "base",
   "language": "python",
   "name": "python3"
  },
  "language_info": {
   "codemirror_mode": {
    "name": "ipython",
    "version": 3
   },
   "file_extension": ".py",
   "mimetype": "text/x-python",
   "name": "python",
   "nbconvert_exporter": "python",
   "pygments_lexer": "ipython3",
   "version": "3.12.4"
  }
 },
 "nbformat": 4,
 "nbformat_minor": 2
}
